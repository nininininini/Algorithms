{
 "cells": [
  {
   "cell_type": "code",
   "execution_count": 1,
   "metadata": {},
   "outputs": [],
   "source": [
    "#*_* coding:utf-8 *_*"
   ]
  },
  {
   "cell_type": "code",
   "execution_count": 2,
   "metadata": {},
   "outputs": [],
   "source": [
    "from tqdm import tqdm\n",
    "import math"
   ]
  },
  {
   "cell_type": "code",
   "execution_count": 3,
   "metadata": {},
   "outputs": [],
   "source": [
    "fpath = \"dict.txt\""
   ]
  },
  {
   "cell_type": "markdown",
   "metadata": {},
   "source": [
    "### 载入词典"
   ]
  },
  {
   "cell_type": "code",
   "execution_count": 4,
   "metadata": {},
   "outputs": [
    {
     "name": "stderr",
     "output_type": "stream",
     "text": [
      "100%|██████████| 584429/584429 [00:03<00:00, 150561.30it/s]\n"
     ]
    }
   ],
   "source": [
    "lfreq = {}\n",
    "lftotal = 0\n",
    "with open(fpath,'r') as f:\n",
    "    linenum = 0\n",
    "    for line in tqdm(f.read().strip().split('\\n')):\n",
    "        linenum += 1\n",
    "        try:\n",
    "            word,freq,_ = line.split(' ')\n",
    "            freq = int(freq)\n",
    "            lfreq[word] = freq\n",
    "            lftotal += freq\n",
    "            for ch in range(len(word)):\n",
    "                wfrag = word[:ch + 1]\n",
    "                if wfrag not in lfreq:\n",
    "                    lfreq[wfrag] = 0\n",
    "        except:\n",
    "            pass"
   ]
  },
  {
   "cell_type": "code",
   "execution_count": 5,
   "metadata": {},
   "outputs": [
    {
     "data": {
      "text/plain": [
       "827207"
      ]
     },
     "execution_count": 5,
     "metadata": {},
     "output_type": "execute_result"
    }
   ],
   "source": [
    "len(lfreq)\n",
    "# lfreq[\"香侬\"]  # 词库中没有香侬这个词"
   ]
  },
  {
   "cell_type": "code",
   "execution_count": 6,
   "metadata": {},
   "outputs": [],
   "source": [
    "def get_DAG(sentence):\n",
    "    DAG = {}\n",
    "    n = len(sentence)\n",
    "    for k in range(n):\n",
    "        temlist = []\n",
    "        i = k\n",
    "        frag = sentence[k]\n",
    "        while i<n and frag in lfreq:\n",
    "            if lfreq[frag]:\n",
    "                temlist.append(i)\n",
    "            i += 1\n",
    "            frag = sentence[k:i+1]     ## 左闭右开\n",
    "            \n",
    "        if not temlist:\n",
    "            temlist.append(k)\n",
    "        DAG[k] = temlist\n",
    "    return DAG"
   ]
  },
  {
   "cell_type": "code",
   "execution_count": 7,
   "metadata": {},
   "outputs": [],
   "source": [
    "DAG = get_DAG(\"欢迎加入香侬科技\")"
   ]
  },
  {
   "cell_type": "code",
   "execution_count": 8,
   "metadata": {},
   "outputs": [
    {
     "data": {
      "text/plain": [
       "{0: [0, 1], 1: [1], 2: [2, 3], 3: [3], 4: [4], 5: [5], 6: [6, 7], 7: [7]}"
      ]
     },
     "execution_count": 8,
     "metadata": {},
     "output_type": "execute_result"
    }
   ],
   "source": [
    "DAG"
   ]
  },
  {
   "cell_type": "code",
   "execution_count": 9,
   "metadata": {},
   "outputs": [],
   "source": [
    "def get_route(DAG,sentence,route):\n",
    "    n = len(sentence)\n",
    "    route[n] = (0,0)\n",
    "    logtotal = math.log(lftotal)\n",
    "    for idx in range(n-1,-1,-1):\n",
    "        route[idx] = max((math.log(lfreq.get(sentence[idx:x+1]) or 1)- logtotal +route[x+1][0],x)\n",
    "                              for x in DAG[idx])"
   ]
  },
  {
   "cell_type": "code",
   "execution_count": 10,
   "metadata": {},
   "outputs": [
    {
     "data": {
      "text/plain": [
       "{8: (0, 0),\n",
       " 7: (-11.25195129228439, 7),\n",
       " 6: (-8.621081625431708, 7),\n",
       " 5: (-22.381217252373446, 5),\n",
       " 4: (-31.99305551884484, 4),\n",
       " 3: (-40.36109639411737, 3),\n",
       " 2: (-41.787215342110194, 3),\n",
       " 1: (-51.655308867679885, 1),\n",
       " 0: (-51.525888820365445, 1)}"
      ]
     },
     "execution_count": 10,
     "metadata": {},
     "output_type": "execute_result"
    }
   ],
   "source": [
    "route = {}\n",
    "get_route(DAG,\"欢迎加入香侬科技\",route)\n",
    "route"
   ]
  },
  {
   "cell_type": "code",
   "execution_count": 11,
   "metadata": {},
   "outputs": [
    {
     "data": {
      "text/plain": [
       "{0: [0], 1: [1], 2: [2], 3: [3], 4: [4], 5: [5], 6: [6]}"
      ]
     },
     "execution_count": 11,
     "metadata": {},
     "output_type": "execute_result"
    }
   ],
   "source": [
    "dag = get_DAG(\"2015年3月\")\n",
    "dag"
   ]
  },
  {
   "cell_type": "code",
   "execution_count": 12,
   "metadata": {},
   "outputs": [],
   "source": [
    "import re"
   ]
  },
  {
   "cell_type": "code",
   "execution_count": 13,
   "metadata": {},
   "outputs": [],
   "source": [
    "def seg(sentence):\n",
    "    sentence = sentence.strip()\n",
    "    DAG = get_DAG(sentence)\n",
    "    route = {}\n",
    "    get_route(DAG,sentence,route)\n",
    "    x = 0\n",
    "    n = len(sentence)\n",
    "    buf = ''\n",
    "    lseg = []\n",
    "    re_eng = re.compile('[a-zA-Z0-9]',re.U)\n",
    "    while x<n:\n",
    "        y = route[x][1] + 1    #[] 为前闭后开\n",
    "        l_word = sentence[x:y]\n",
    "        if re_eng.match(l_word) and len(l_word)==1:\n",
    "            buf += l_word\n",
    "            x = y\n",
    "        else:\n",
    "            if buf:\n",
    "                lseg.append(buf)\n",
    "                buf = ''\n",
    "            lseg.append(l_word)\n",
    "            x = y\n",
    "    if buf:\n",
    "        lseg.append(buf)      ## 保证末尾字词不被忽略\n",
    "    return lseg"
   ]
  },
  {
   "cell_type": "code",
   "execution_count": 14,
   "metadata": {},
   "outputs": [
    {
     "data": {
      "text/plain": [
       "['欢迎', '加入', '香', '侬', '科技']"
      ]
     },
     "execution_count": 14,
     "metadata": {},
     "output_type": "execute_result"
    }
   ],
   "source": [
    "sentence = \"欢迎加入香侬科技\"\n",
    "se = seg(sentence)\n",
    "se"
   ]
  },
  {
   "cell_type": "code",
   "execution_count": 15,
   "metadata": {},
   "outputs": [
    {
     "data": {
      "text/plain": [
       "['2015', '年', '3', '月']"
      ]
     },
     "execution_count": 15,
     "metadata": {},
     "output_type": "execute_result"
    }
   ],
   "source": [
    "sentence = \"2015年3月\"\n",
    "se = seg(sentence)\n",
    "se"
   ]
  },
  {
   "cell_type": "markdown",
   "metadata": {},
   "source": [
    "### 载入人民日报语料 进行测试"
   ]
  },
  {
   "cell_type": "code",
   "execution_count": 16,
   "metadata": {},
   "outputs": [],
   "source": [
    "fpath = \"/home/kebo/人民日报语料库2014/2014/0102\""
   ]
  },
  {
   "cell_type": "code",
   "execution_count": 17,
   "metadata": {},
   "outputs": [],
   "source": [
    "import os"
   ]
  },
  {
   "cell_type": "code",
   "execution_count": 18,
   "metadata": {},
   "outputs": [
    {
     "name": "stderr",
     "output_type": "stream",
     "text": [
      "100%|██████████| 5286/5286 [00:00<00:00, 205293.58it/s]\n"
     ]
    }
   ],
   "source": [
    "filelist = []\n",
    "for file in tqdm(os.listdir(fpath)):\n",
    "    if not re.match(\"^\\._\",file):\n",
    "        file = os.path.join(fpath,file)\n",
    "        filelist.append(file)"
   ]
  },
  {
   "cell_type": "code",
   "execution_count": 19,
   "metadata": {},
   "outputs": [
    {
     "data": {
      "text/plain": [
       "2643"
      ]
     },
     "execution_count": 19,
     "metadata": {},
     "output_type": "execute_result"
    }
   ],
   "source": [
    "len(filelist)"
   ]
  },
  {
   "cell_type": "code",
   "execution_count": 20,
   "metadata": {},
   "outputs": [],
   "source": [
    "def transfor(line):\n",
    "    line = re.sub(\"/[a-z]+\",\"\",line)\n",
    "    line = line.replace(\"\\n\",\"\").strip()\n",
    "    line = line.replace(\"[\",\"\").strip()\n",
    "    line = line.replace(\"]\",\"\").strip()\n",
    "    cut_line = line.split(\" \")\n",
    "    line = \"\".join(cut_line)\n",
    "    return line,cut_line"
   ]
  },
  {
   "cell_type": "code",
   "execution_count": 21,
   "metadata": {},
   "outputs": [
    {
     "name": "stderr",
     "output_type": "stream",
     "text": [
      "100%|██████████| 2643/2643 [00:16<00:00, 159.41it/s]\n"
     ]
    }
   ],
   "source": [
    "eva_list = []\n",
    "seg_list = []\n",
    "for file in tqdm(filelist):\n",
    "    with open(file) as f:\n",
    "        for line in f.readlines():\n",
    "            line,cut_line = transfor(line)\n",
    "            seg_list.append(seg(line))\n",
    "            eva_list.append(cut_line)"
   ]
  },
  {
   "cell_type": "code",
   "execution_count": 22,
   "metadata": {},
   "outputs": [
    {
     "data": {
      "text/plain": [
       "20791"
      ]
     },
     "execution_count": 22,
     "metadata": {},
     "output_type": "execute_result"
    }
   ],
   "source": [
    "len(eva_list)"
   ]
  },
  {
   "cell_type": "code",
   "execution_count": 23,
   "metadata": {},
   "outputs": [],
   "source": [
    "def car_preci(eva_list,seg_list):\n",
    "    if len(eva_list) != len(seg_list):\n",
    "        print(\"error !\")\n",
    "        return 0\n",
    "    p_score = 0.0\n",
    "    r_score=0.0\n",
    "    f_score=0.0\n",
    "    for i in tqdm(range(len(eva_list))):\n",
    "        if len(seg_list[i])>0:\n",
    "            count = 0\n",
    "            for w in seg_list[i]:\n",
    "                if w in eva_list[i]:\n",
    "                    count+=1\n",
    "            p_score += count/len(seg_list[i])\n",
    "            r_score += count/len(eva_list[i])\n",
    "    p_score = p_score/len(eva_list)\n",
    "    r_score = r_score/len(eva_list)\n",
    "    f = p_score*r_score*2/(p_score+r_score)\n",
    "    return (p_score,r_score,f)"
   ]
  },
  {
   "cell_type": "code",
   "execution_count": 24,
   "metadata": {},
   "outputs": [
    {
     "name": "stderr",
     "output_type": "stream",
     "text": [
      "100%|██████████| 20791/20791 [00:01<00:00, 10861.15it/s]\n"
     ]
    }
   ],
   "source": [
    "p_score,r_score,f = car_preci(eva_list,seg_list)"
   ]
  },
  {
   "cell_type": "code",
   "execution_count": 25,
   "metadata": {},
   "outputs": [
    {
     "name": "stdout",
     "output_type": "stream",
     "text": [
      "0.787546769422249 0.8270464959795102 0.8068134681691268\n"
     ]
    }
   ],
   "source": [
    "print(p_score,r_score,f)"
   ]
  },
  {
   "cell_type": "markdown",
   "metadata": {},
   "source": [
    "### 测试结果\n",
    "    准确率：0.787546769422249\n",
    "    召回率：0.8270464959795102\n",
    "    f值：0.8068134681691268"
   ]
  }
 ],
 "metadata": {
  "kernelspec": {
   "display_name": "Python 3",
   "language": "python",
   "name": "python3"
  },
  "language_info": {
   "codemirror_mode": {
    "name": "ipython",
    "version": 3
   },
   "file_extension": ".py",
   "mimetype": "text/x-python",
   "name": "python",
   "nbconvert_exporter": "python",
   "pygments_lexer": "ipython3",
   "version": "3.6.8"
  }
 },
 "nbformat": 4,
 "nbformat_minor": 2
}
